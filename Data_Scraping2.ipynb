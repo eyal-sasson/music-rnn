{
  "cells": [
    {
      "cell_type": "markdown",
      "source": [
        "# Data Scraping\n",
        "\n",
        "A complementary notebook for [MusicRNN](https://github.com/eyal-sasson/music-rnn) demonstrating the data acquisition."
      ],
      "metadata": {
        "id": "gp5xPnVCpFfB"
      }
    },
    {
      "cell_type": "markdown",
      "source": [
        "[![Open in Colab](https://colab.research.google.com/assets/colab-badge.svg)](https://colab.research.google.com/github/eyal-sasson/music-rnn/blob/main/Data_Scraping.ipynb)\n",
        "[![View Source on GitHub](https://badgen.net/badge/icon/View%20Source%20on%20GitHub?icon=github&label)](https://github.com/eyal-sasson/music-rnn/blob/main/Data_Scraping.ipynb)"
      ],
      "metadata": {
        "id": "QHj3sB8Qp8kX"
      }
    },
    {
      "cell_type": "markdown",
      "source": [
        "## Dependencies\n",
        "First we need to install some dependencies. We are going to use the `requests` library for getting the website content, and then processing it with `BeautifulSoup`."
      ],
      "metadata": {
        "id": "XiOxdQhGrNEO"
      }
    },
    {
      "cell_type": "code",
      "execution_count": null,
      "metadata": {
        "id": "b6y4WvRwtntl"
      },
      "outputs": [],
      "source": [
        "import random\n",
        "from tqdm.notebook import tqdm, trange\n",
        "import requests\n",
        "from bs4 import BeautifulSoup\n",
        "import re\n",
        "from time import sleep"
      ]
    },
    {
      "cell_type": "markdown",
      "source": [
        "## The acquisition process\n",
        "In this example, we will donwload songs from the Lesession dataset, from the [ABC Notation website](https://abcnotation.com)."
      ],
      "metadata": {
        "id": "Yior6-AqsVUF"
      }
    },
    {
      "cell_type": "markdown",
      "source": [
        "### Getting the tune search pages\n",
        "First, let's go over the tune search pages, each with 50 songs. We will take up to 1300 songs, and convert every page to a `BeautifulSoup` object."
      ],
      "metadata": {
        "id": "pNqpQFsdsxa_"
      }
    },
    {
      "cell_type": "code",
      "execution_count": null,
      "metadata": {
        "colab": {
          "base_uri": "https://localhost:8080/",
          "height": 49,
          "referenced_widgets": [
            "34d7f159debf4123aacf99f5474b9fb6",
            "9fdb4fdb398449b6889a3f8b0e8f7201",
            "8424bd51375c459dae435386e9131e96",
            "87944f66cec041f2a52f13c59fbcd164",
            "709918e7a7a44865981c185e5a6dae38",
            "971dc956ed0a41d88293565d14836c64",
            "442b51618a6f4acfab155ac30e174f60",
            "8f5670b789bb40c79e3c91106c28851c",
            "7df61bb154704bb38a62eb77aad95f0f",
            "c2864d5310484c11989620835c71eb3a",
            "9b113c9316574d48abb9e7c28aa4631b"
          ]
        },
        "id": "q1rWm9YPSWy9",
        "outputId": "debdbfcb-4536-4369-a61a-1049986259cb"
      },
      "outputs": [
        {
          "output_type": "display_data",
          "data": {
            "text/plain": [
              "  0%|          | 0/26 [00:00<?, ?it/s]"
            ],
            "application/vnd.jupyter.widget-view+json": {
              "version_major": 2,
              "version_minor": 0,
              "model_id": "34d7f159debf4123aacf99f5474b9fb6"
            }
          },
          "metadata": {}
        }
      ],
      "source": [
        "url = \"https://abcnotation.com/searchTunes\"\n",
        "site = \"www.lesession.co.uk\"\n",
        "pages = []\n",
        "for offset in trange(0, 1300, 50):\n",
        "  params = {'q': f'site:{site}', 'f': 't', 's': offset}\n",
        "  r = requests.get(url, params)\n",
        "  while (r.status_code != 200):\n",
        "    r = requests.get(url, params)\n",
        "    sleep(5)\n",
        "  soup = BeautifulSoup(r.content)\n",
        "  pages.append(soup)"
      ]
    },
    {
      "cell_type": "markdown",
      "source": [
        "### Getting all song pages\n",
        "Now, we run over our pages and find the song links in them - we look for `href`s starting with `/tunePage` (indicating they are tunes). Then we save the links themselves, without the dataset prefix."
      ],
      "metadata": {
        "id": "0k9VQV12tSSc"
      }
    },
    {
      "cell_type": "code",
      "execution_count": null,
      "metadata": {
        "colab": {
          "base_uri": "https://localhost:8080/"
        },
        "id": "KlwEVpduaBO5",
        "outputId": "008c2fee-4147-47b2-e62c-207fc51d6725"
      },
      "outputs": [
        {
          "output_type": "stream",
          "name": "stdout",
          "text": [
            "1272\n"
          ]
        },
        {
          "output_type": "execute_result",
          "data": {
            "text/plain": [
              "['music/lgsdmweb/0094',\n",
              " 'music/lgsdmweb/0095',\n",
              " 'music/lgsdmweb/0010',\n",
              " 'music/woodenflute/0003',\n",
              " 'music/LEMcCulloughTunes201404/0084',\n",
              " 'music/posts/0001',\n",
              " 'music/posts/0002',\n",
              " 'music/lgsdmweb/0096',\n",
              " 'music/LEMcCulloughTunes201404/0000',\n",
              " 'music/LEMcCulloughTunes201404/0115']"
            ]
          },
          "metadata": {},
          "execution_count": 13
        }
      ],
      "source": [
        "songs = []\n",
        "for soup in pages:\n",
        "  hrefs = [x['href'] for x in soup('a')]\n",
        "  page_songs = [href.split('/', 2)[-1] for href in hrefs if href.startswith('/tunePage')]\n",
        "  songs.extend(page_songs)\n",
        "print(len(songs))\n",
        "songs[:10]"
      ]
    },
    {
      "cell_type": "markdown",
      "source": [
        "For every `song` in our `songs` list, we can find its page at `/tunePage?a=[DATASET]/[SONG]`.\n",
        "\n",
        "Let's now convert our songs to a set and then back to a list to remove any duplicates."
      ],
      "metadata": {
        "id": "44IUUOXOt-jM"
      }
    },
    {
      "cell_type": "code",
      "source": [
        "songs = [*set(songs)]\n",
        "len(songs)"
      ],
      "metadata": {
        "colab": {
          "base_uri": "https://localhost:8080/"
        },
        "id": "pnWXPrzXMD28",
        "outputId": "263864c4-bfb5-4ef6-9b9f-afb07b893cc6"
      },
      "execution_count": null,
      "outputs": [
        {
          "output_type": "execute_result",
          "data": {
            "text/plain": [
              "1272"
            ]
          },
          "metadata": {},
          "execution_count": 14
        }
      ]
    },
    {
      "cell_type": "markdown",
      "source": [
        "As we can see, there were no duplicates in the dataset."
      ],
      "metadata": {
        "id": "IItwh1lyuq3c"
      }
    },
    {
      "cell_type": "markdown",
      "source": [
        "### Defining preprocessing\n",
        "Some of the songs have junk lines in them, e.g. the composer, a URL, and even lyrics. Each field's meaning can be found in the [ABC Notation Standard](https://abcnotation.com/wiki/abc:standard:v2.1#information_field_definition).\n",
        "We will remove the unnecessary fields (the title is not removed because we will later save each song as its title)."
      ],
      "metadata": {
        "id": "-F9s1gYPuyyD"
      }
    },
    {
      "cell_type": "code",
      "execution_count": null,
      "metadata": {
        "id": "kQSHB0g1PFGW"
      },
      "outputs": [],
      "source": [
        "def preprocess_song(song):\n",
        "  lines_processed = []\n",
        "  to_remove = False\n",
        "  headers_to_remove = ('A:', 'B:', 'C:', 'D:', 'F:', 'H:', 'I:', 'N:', 'O:', 'R:', 'S:', 'W:', 'w:', 'Z:')\n",
        "  for line in song.split('\\n'):\n",
        "    # if len(line) > 1 and line[1] == ':': # uncomment this line to remove all lines after a junk header\n",
        "    to_remove = False\n",
        "    if line.startswith(headers_to_remove):\n",
        "      to_remove = True\n",
        "    if not to_remove:\n",
        "      lines_processed.append(line)\n",
        "  return '\\n'.join(lines_processed)"
      ]
    },
    {
      "cell_type": "markdown",
      "source": [
        "### Downloading every song\n",
        "Now we will get every song and save it as an abc file. We are going to make many requests so we will have to take some steps in order to not get blocked by the website.\n",
        "\n",
        "We will send headers with every request to hide ourselves and lower the chances of getting blocked."
      ],
      "metadata": {
        "id": "MOGj4SgH2qgm"
      }
    },
    {
      "cell_type": "code",
      "source": [
        "headers = {'User-Agent': 'Mozilla/5.0 (Windows NT 6.1; WOW64; rv:20.0) Gecko/20100101 Firefox/20.0'}\n",
        "\n",
        "sess = requests.Session()\n",
        "adapter = requests.adapters.HTTPAdapter(max_retries = 20)\n",
        "sess.mount('http://', adapter)"
      ],
      "metadata": {
        "id": "FseCTUP43Q8B"
      },
      "execution_count": null,
      "outputs": []
    },
    {
      "cell_type": "markdown",
      "source": [
        "Now let's actually download the songs!\n",
        "\n",
        "There are a few steps done, *for every tune*:\n",
        "\n",
        "1. Get the tune webpage, send the headers with the request.\n",
        "1. If the request failed (i.e. we got blocked), wait a few seconds and try again until working.\n",
        "1. Preprocess the output to get the cleaned song.\n",
        "1. Extract the title using a regex.\n",
        "1. Save the song to `data/` as its title.\n",
        "1. Wait 2-4 seconds (to avoid getting blocked). "
      ],
      "metadata": {
        "id": "4qORKF2f5K9m"
      }
    },
    {
      "cell_type": "code",
      "execution_count": null,
      "metadata": {
        "colab": {
          "base_uri": "https://localhost:8080/",
          "height": 142,
          "referenced_widgets": [
            "8fde800c4e324bce86e51beb4782a6ae",
            "cc21ee50d0d243b99af5235b0bb29092",
            "e26cea2f6f5946b6beca02b78bde8583",
            "2b67d034f2e34b4390d8df3256c23197",
            "e30b51e8fc7b4ee685326ee6480155ca",
            "cf5cd5264f744e889a312b846576c3ae",
            "849be783e33840349903956e5f4815b9",
            "66641cc61b884a498d03a2e26e80f9d8",
            "dfe955cad18843fdbcab18eab90456e1",
            "b14b6fb1482c457d8dbd0a15f2fb6028",
            "6ba0f08699e846cf9b16fc62d15c0b02"
          ]
        },
        "id": "JW0H-WKHemw7",
        "outputId": "de15e117-66a6-49d9-82bd-34629c107767"
      },
      "outputs": [
        {
          "metadata": {
            "tags": null
          },
          "name": "stdout",
          "output_type": "stream",
          "text": [
            "mkdir: cannot create directory ‘data’: File exists\n"
          ]
        },
        {
          "data": {
            "application/vnd.jupyter.widget-view+json": {
              "model_id": "8fde800c4e324bce86e51beb4782a6ae",
              "version_major": 2,
              "version_minor": 0
            },
            "text/plain": [
              "  0%|          | 0/1272 [00:00<?, ?it/s]"
            ]
          },
          "metadata": {},
          "output_type": "display_data"
        }
      ],
      "source": [
        "!mkdir data\n",
        "for song in tqdm(songs):\n",
        "  url = f\"https://abcnotation.com/getResource/downloads/text_/_.abc?a={site}/{song}\"\n",
        "  r = sess.get(url, headers=headers)\n",
        "  while (r.status_code != 200):\n",
        "    sleep(3)\n",
        "    r = sess.get(url, headers=headers)\n",
        "  output = preprocess_song(r.text)\n",
        "  title = re.search('\\nT:(.*)\\n', output).group(1).replace('/', ' ')\n",
        "  with open(f'data/{title}.abc', 'w') as f:\n",
        "    f.write(output.strip())\n",
        "  sleep(random.randint(2,4))"
      ]
    },
    {
      "cell_type": "markdown",
      "source": [
        "### Compress the folder to a zip file\n",
        "Let's save the directory to a zip file so we can later use it in the model itself."
      ],
      "metadata": {
        "id": "VJJuYH5M6nvV"
      }
    },
    {
      "cell_type": "code",
      "execution_count": null,
      "metadata": {
        "id": "qgh5GGgI3dhq"
      },
      "outputs": [],
      "source": [
        "!zip -qr lesession.zip data/"
      ]
    }
  ],
  "metadata": {
    "colab": {
      "provenance": [],
      "toc_visible": true
    },
    "gpuClass": "standard",
    "kernelspec": {
      "display_name": "Python 3",
      "name": "python3"
    },
    "language_info": {
      "name": "python"
    },
    "widgets": {
      "application/vnd.jupyter.widget-state+json": {
        "34d7f159debf4123aacf99f5474b9fb6": {
          "model_module": "@jupyter-widgets/controls",
          "model_name": "HBoxModel",
          "model_module_version": "1.5.0",
          "state": {
            "_dom_classes": [],
            "_model_module": "@jupyter-widgets/controls",
            "_model_module_version": "1.5.0",
            "_model_name": "HBoxModel",
            "_view_count": null,
            "_view_module": "@jupyter-widgets/controls",
            "_view_module_version": "1.5.0",
            "_view_name": "HBoxView",
            "box_style": "",
            "children": [
              "IPY_MODEL_9fdb4fdb398449b6889a3f8b0e8f7201",
              "IPY_MODEL_8424bd51375c459dae435386e9131e96",
              "IPY_MODEL_87944f66cec041f2a52f13c59fbcd164"
            ],
            "layout": "IPY_MODEL_709918e7a7a44865981c185e5a6dae38"
          }
        },
        "9fdb4fdb398449b6889a3f8b0e8f7201": {
          "model_module": "@jupyter-widgets/controls",
          "model_name": "HTMLModel",
          "model_module_version": "1.5.0",
          "state": {
            "_dom_classes": [],
            "_model_module": "@jupyter-widgets/controls",
            "_model_module_version": "1.5.0",
            "_model_name": "HTMLModel",
            "_view_count": null,
            "_view_module": "@jupyter-widgets/controls",
            "_view_module_version": "1.5.0",
            "_view_name": "HTMLView",
            "description": "",
            "description_tooltip": null,
            "layout": "IPY_MODEL_971dc956ed0a41d88293565d14836c64",
            "placeholder": "​",
            "style": "IPY_MODEL_442b51618a6f4acfab155ac30e174f60",
            "value": "100%"
          }
        },
        "8424bd51375c459dae435386e9131e96": {
          "model_module": "@jupyter-widgets/controls",
          "model_name": "FloatProgressModel",
          "model_module_version": "1.5.0",
          "state": {
            "_dom_classes": [],
            "_model_module": "@jupyter-widgets/controls",
            "_model_module_version": "1.5.0",
            "_model_name": "FloatProgressModel",
            "_view_count": null,
            "_view_module": "@jupyter-widgets/controls",
            "_view_module_version": "1.5.0",
            "_view_name": "ProgressView",
            "bar_style": "success",
            "description": "",
            "description_tooltip": null,
            "layout": "IPY_MODEL_8f5670b789bb40c79e3c91106c28851c",
            "max": 26,
            "min": 0,
            "orientation": "horizontal",
            "style": "IPY_MODEL_7df61bb154704bb38a62eb77aad95f0f",
            "value": 26
          }
        },
        "87944f66cec041f2a52f13c59fbcd164": {
          "model_module": "@jupyter-widgets/controls",
          "model_name": "HTMLModel",
          "model_module_version": "1.5.0",
          "state": {
            "_dom_classes": [],
            "_model_module": "@jupyter-widgets/controls",
            "_model_module_version": "1.5.0",
            "_model_name": "HTMLModel",
            "_view_count": null,
            "_view_module": "@jupyter-widgets/controls",
            "_view_module_version": "1.5.0",
            "_view_name": "HTMLView",
            "description": "",
            "description_tooltip": null,
            "layout": "IPY_MODEL_c2864d5310484c11989620835c71eb3a",
            "placeholder": "​",
            "style": "IPY_MODEL_9b113c9316574d48abb9e7c28aa4631b",
            "value": " 26/26 [01:35&lt;00:00,  5.99s/it]"
          }
        },
        "709918e7a7a44865981c185e5a6dae38": {
          "model_module": "@jupyter-widgets/base",
          "model_name": "LayoutModel",
          "model_module_version": "1.2.0",
          "state": {
            "_model_module": "@jupyter-widgets/base",
            "_model_module_version": "1.2.0",
            "_model_name": "LayoutModel",
            "_view_count": null,
            "_view_module": "@jupyter-widgets/base",
            "_view_module_version": "1.2.0",
            "_view_name": "LayoutView",
            "align_content": null,
            "align_items": null,
            "align_self": null,
            "border": null,
            "bottom": null,
            "display": null,
            "flex": null,
            "flex_flow": null,
            "grid_area": null,
            "grid_auto_columns": null,
            "grid_auto_flow": null,
            "grid_auto_rows": null,
            "grid_column": null,
            "grid_gap": null,
            "grid_row": null,
            "grid_template_areas": null,
            "grid_template_columns": null,
            "grid_template_rows": null,
            "height": null,
            "justify_content": null,
            "justify_items": null,
            "left": null,
            "margin": null,
            "max_height": null,
            "max_width": null,
            "min_height": null,
            "min_width": null,
            "object_fit": null,
            "object_position": null,
            "order": null,
            "overflow": null,
            "overflow_x": null,
            "overflow_y": null,
            "padding": null,
            "right": null,
            "top": null,
            "visibility": null,
            "width": null
          }
        },
        "971dc956ed0a41d88293565d14836c64": {
          "model_module": "@jupyter-widgets/base",
          "model_name": "LayoutModel",
          "model_module_version": "1.2.0",
          "state": {
            "_model_module": "@jupyter-widgets/base",
            "_model_module_version": "1.2.0",
            "_model_name": "LayoutModel",
            "_view_count": null,
            "_view_module": "@jupyter-widgets/base",
            "_view_module_version": "1.2.0",
            "_view_name": "LayoutView",
            "align_content": null,
            "align_items": null,
            "align_self": null,
            "border": null,
            "bottom": null,
            "display": null,
            "flex": null,
            "flex_flow": null,
            "grid_area": null,
            "grid_auto_columns": null,
            "grid_auto_flow": null,
            "grid_auto_rows": null,
            "grid_column": null,
            "grid_gap": null,
            "grid_row": null,
            "grid_template_areas": null,
            "grid_template_columns": null,
            "grid_template_rows": null,
            "height": null,
            "justify_content": null,
            "justify_items": null,
            "left": null,
            "margin": null,
            "max_height": null,
            "max_width": null,
            "min_height": null,
            "min_width": null,
            "object_fit": null,
            "object_position": null,
            "order": null,
            "overflow": null,
            "overflow_x": null,
            "overflow_y": null,
            "padding": null,
            "right": null,
            "top": null,
            "visibility": null,
            "width": null
          }
        },
        "442b51618a6f4acfab155ac30e174f60": {
          "model_module": "@jupyter-widgets/controls",
          "model_name": "DescriptionStyleModel",
          "model_module_version": "1.5.0",
          "state": {
            "_model_module": "@jupyter-widgets/controls",
            "_model_module_version": "1.5.0",
            "_model_name": "DescriptionStyleModel",
            "_view_count": null,
            "_view_module": "@jupyter-widgets/base",
            "_view_module_version": "1.2.0",
            "_view_name": "StyleView",
            "description_width": ""
          }
        },
        "8f5670b789bb40c79e3c91106c28851c": {
          "model_module": "@jupyter-widgets/base",
          "model_name": "LayoutModel",
          "model_module_version": "1.2.0",
          "state": {
            "_model_module": "@jupyter-widgets/base",
            "_model_module_version": "1.2.0",
            "_model_name": "LayoutModel",
            "_view_count": null,
            "_view_module": "@jupyter-widgets/base",
            "_view_module_version": "1.2.0",
            "_view_name": "LayoutView",
            "align_content": null,
            "align_items": null,
            "align_self": null,
            "border": null,
            "bottom": null,
            "display": null,
            "flex": null,
            "flex_flow": null,
            "grid_area": null,
            "grid_auto_columns": null,
            "grid_auto_flow": null,
            "grid_auto_rows": null,
            "grid_column": null,
            "grid_gap": null,
            "grid_row": null,
            "grid_template_areas": null,
            "grid_template_columns": null,
            "grid_template_rows": null,
            "height": null,
            "justify_content": null,
            "justify_items": null,
            "left": null,
            "margin": null,
            "max_height": null,
            "max_width": null,
            "min_height": null,
            "min_width": null,
            "object_fit": null,
            "object_position": null,
            "order": null,
            "overflow": null,
            "overflow_x": null,
            "overflow_y": null,
            "padding": null,
            "right": null,
            "top": null,
            "visibility": null,
            "width": null
          }
        },
        "7df61bb154704bb38a62eb77aad95f0f": {
          "model_module": "@jupyter-widgets/controls",
          "model_name": "ProgressStyleModel",
          "model_module_version": "1.5.0",
          "state": {
            "_model_module": "@jupyter-widgets/controls",
            "_model_module_version": "1.5.0",
            "_model_name": "ProgressStyleModel",
            "_view_count": null,
            "_view_module": "@jupyter-widgets/base",
            "_view_module_version": "1.2.0",
            "_view_name": "StyleView",
            "bar_color": null,
            "description_width": ""
          }
        },
        "c2864d5310484c11989620835c71eb3a": {
          "model_module": "@jupyter-widgets/base",
          "model_name": "LayoutModel",
          "model_module_version": "1.2.0",
          "state": {
            "_model_module": "@jupyter-widgets/base",
            "_model_module_version": "1.2.0",
            "_model_name": "LayoutModel",
            "_view_count": null,
            "_view_module": "@jupyter-widgets/base",
            "_view_module_version": "1.2.0",
            "_view_name": "LayoutView",
            "align_content": null,
            "align_items": null,
            "align_self": null,
            "border": null,
            "bottom": null,
            "display": null,
            "flex": null,
            "flex_flow": null,
            "grid_area": null,
            "grid_auto_columns": null,
            "grid_auto_flow": null,
            "grid_auto_rows": null,
            "grid_column": null,
            "grid_gap": null,
            "grid_row": null,
            "grid_template_areas": null,
            "grid_template_columns": null,
            "grid_template_rows": null,
            "height": null,
            "justify_content": null,
            "justify_items": null,
            "left": null,
            "margin": null,
            "max_height": null,
            "max_width": null,
            "min_height": null,
            "min_width": null,
            "object_fit": null,
            "object_position": null,
            "order": null,
            "overflow": null,
            "overflow_x": null,
            "overflow_y": null,
            "padding": null,
            "right": null,
            "top": null,
            "visibility": null,
            "width": null
          }
        },
        "9b113c9316574d48abb9e7c28aa4631b": {
          "model_module": "@jupyter-widgets/controls",
          "model_name": "DescriptionStyleModel",
          "model_module_version": "1.5.0",
          "state": {
            "_model_module": "@jupyter-widgets/controls",
            "_model_module_version": "1.5.0",
            "_model_name": "DescriptionStyleModel",
            "_view_count": null,
            "_view_module": "@jupyter-widgets/base",
            "_view_module_version": "1.2.0",
            "_view_name": "StyleView",
            "description_width": ""
          }
        },
        "8fde800c4e324bce86e51beb4782a6ae": {
          "model_module": "@jupyter-widgets/controls",
          "model_name": "HBoxModel",
          "model_module_version": "1.5.0",
          "state": {
            "_dom_classes": [],
            "_model_module": "@jupyter-widgets/controls",
            "_model_module_version": "1.5.0",
            "_model_name": "HBoxModel",
            "_view_count": null,
            "_view_module": "@jupyter-widgets/controls",
            "_view_module_version": "1.5.0",
            "_view_name": "HBoxView",
            "box_style": "",
            "children": [
              "IPY_MODEL_cc21ee50d0d243b99af5235b0bb29092",
              "IPY_MODEL_e26cea2f6f5946b6beca02b78bde8583",
              "IPY_MODEL_2b67d034f2e34b4390d8df3256c23197"
            ],
            "layout": "IPY_MODEL_e30b51e8fc7b4ee685326ee6480155ca"
          }
        },
        "cc21ee50d0d243b99af5235b0bb29092": {
          "model_module": "@jupyter-widgets/controls",
          "model_name": "HTMLModel",
          "model_module_version": "1.5.0",
          "state": {
            "_dom_classes": [],
            "_model_module": "@jupyter-widgets/controls",
            "_model_module_version": "1.5.0",
            "_model_name": "HTMLModel",
            "_view_count": null,
            "_view_module": "@jupyter-widgets/controls",
            "_view_module_version": "1.5.0",
            "_view_name": "HTMLView",
            "description": "",
            "description_tooltip": null,
            "layout": "IPY_MODEL_cf5cd5264f744e889a312b846576c3ae",
            "placeholder": "​",
            "style": "IPY_MODEL_849be783e33840349903956e5f4815b9",
            "value": "100%"
          }
        },
        "e26cea2f6f5946b6beca02b78bde8583": {
          "model_module": "@jupyter-widgets/controls",
          "model_name": "FloatProgressModel",
          "model_module_version": "1.5.0",
          "state": {
            "_dom_classes": [],
            "_model_module": "@jupyter-widgets/controls",
            "_model_module_version": "1.5.0",
            "_model_name": "FloatProgressModel",
            "_view_count": null,
            "_view_module": "@jupyter-widgets/controls",
            "_view_module_version": "1.5.0",
            "_view_name": "ProgressView",
            "bar_style": "success",
            "description": "",
            "description_tooltip": null,
            "layout": "IPY_MODEL_66641cc61b884a498d03a2e26e80f9d8",
            "max": 1272,
            "min": 0,
            "orientation": "horizontal",
            "style": "IPY_MODEL_dfe955cad18843fdbcab18eab90456e1",
            "value": 1272
          }
        },
        "2b67d034f2e34b4390d8df3256c23197": {
          "model_module": "@jupyter-widgets/controls",
          "model_name": "HTMLModel",
          "model_module_version": "1.5.0",
          "state": {
            "_dom_classes": [],
            "_model_module": "@jupyter-widgets/controls",
            "_model_module_version": "1.5.0",
            "_model_name": "HTMLModel",
            "_view_count": null,
            "_view_module": "@jupyter-widgets/controls",
            "_view_module_version": "1.5.0",
            "_view_name": "HTMLView",
            "description": "",
            "description_tooltip": null,
            "layout": "IPY_MODEL_b14b6fb1482c457d8dbd0a15f2fb6028",
            "placeholder": "​",
            "style": "IPY_MODEL_6ba0f08699e846cf9b16fc62d15c0b02",
            "value": " 1272/1272 [1:28:36&lt;00:00,  3.85s/it]"
          }
        },
        "e30b51e8fc7b4ee685326ee6480155ca": {
          "model_module": "@jupyter-widgets/base",
          "model_name": "LayoutModel",
          "model_module_version": "1.2.0",
          "state": {
            "_model_module": "@jupyter-widgets/base",
            "_model_module_version": "1.2.0",
            "_model_name": "LayoutModel",
            "_view_count": null,
            "_view_module": "@jupyter-widgets/base",
            "_view_module_version": "1.2.0",
            "_view_name": "LayoutView",
            "align_content": null,
            "align_items": null,
            "align_self": null,
            "border": null,
            "bottom": null,
            "display": null,
            "flex": null,
            "flex_flow": null,
            "grid_area": null,
            "grid_auto_columns": null,
            "grid_auto_flow": null,
            "grid_auto_rows": null,
            "grid_column": null,
            "grid_gap": null,
            "grid_row": null,
            "grid_template_areas": null,
            "grid_template_columns": null,
            "grid_template_rows": null,
            "height": null,
            "justify_content": null,
            "justify_items": null,
            "left": null,
            "margin": null,
            "max_height": null,
            "max_width": null,
            "min_height": null,
            "min_width": null,
            "object_fit": null,
            "object_position": null,
            "order": null,
            "overflow": null,
            "overflow_x": null,
            "overflow_y": null,
            "padding": null,
            "right": null,
            "top": null,
            "visibility": null,
            "width": null
          }
        },
        "cf5cd5264f744e889a312b846576c3ae": {
          "model_module": "@jupyter-widgets/base",
          "model_name": "LayoutModel",
          "model_module_version": "1.2.0",
          "state": {
            "_model_module": "@jupyter-widgets/base",
            "_model_module_version": "1.2.0",
            "_model_name": "LayoutModel",
            "_view_count": null,
            "_view_module": "@jupyter-widgets/base",
            "_view_module_version": "1.2.0",
            "_view_name": "LayoutView",
            "align_content": null,
            "align_items": null,
            "align_self": null,
            "border": null,
            "bottom": null,
            "display": null,
            "flex": null,
            "flex_flow": null,
            "grid_area": null,
            "grid_auto_columns": null,
            "grid_auto_flow": null,
            "grid_auto_rows": null,
            "grid_column": null,
            "grid_gap": null,
            "grid_row": null,
            "grid_template_areas": null,
            "grid_template_columns": null,
            "grid_template_rows": null,
            "height": null,
            "justify_content": null,
            "justify_items": null,
            "left": null,
            "margin": null,
            "max_height": null,
            "max_width": null,
            "min_height": null,
            "min_width": null,
            "object_fit": null,
            "object_position": null,
            "order": null,
            "overflow": null,
            "overflow_x": null,
            "overflow_y": null,
            "padding": null,
            "right": null,
            "top": null,
            "visibility": null,
            "width": null
          }
        },
        "849be783e33840349903956e5f4815b9": {
          "model_module": "@jupyter-widgets/controls",
          "model_name": "DescriptionStyleModel",
          "model_module_version": "1.5.0",
          "state": {
            "_model_module": "@jupyter-widgets/controls",
            "_model_module_version": "1.5.0",
            "_model_name": "DescriptionStyleModel",
            "_view_count": null,
            "_view_module": "@jupyter-widgets/base",
            "_view_module_version": "1.2.0",
            "_view_name": "StyleView",
            "description_width": ""
          }
        },
        "66641cc61b884a498d03a2e26e80f9d8": {
          "model_module": "@jupyter-widgets/base",
          "model_name": "LayoutModel",
          "model_module_version": "1.2.0",
          "state": {
            "_model_module": "@jupyter-widgets/base",
            "_model_module_version": "1.2.0",
            "_model_name": "LayoutModel",
            "_view_count": null,
            "_view_module": "@jupyter-widgets/base",
            "_view_module_version": "1.2.0",
            "_view_name": "LayoutView",
            "align_content": null,
            "align_items": null,
            "align_self": null,
            "border": null,
            "bottom": null,
            "display": null,
            "flex": null,
            "flex_flow": null,
            "grid_area": null,
            "grid_auto_columns": null,
            "grid_auto_flow": null,
            "grid_auto_rows": null,
            "grid_column": null,
            "grid_gap": null,
            "grid_row": null,
            "grid_template_areas": null,
            "grid_template_columns": null,
            "grid_template_rows": null,
            "height": null,
            "justify_content": null,
            "justify_items": null,
            "left": null,
            "margin": null,
            "max_height": null,
            "max_width": null,
            "min_height": null,
            "min_width": null,
            "object_fit": null,
            "object_position": null,
            "order": null,
            "overflow": null,
            "overflow_x": null,
            "overflow_y": null,
            "padding": null,
            "right": null,
            "top": null,
            "visibility": null,
            "width": null
          }
        },
        "dfe955cad18843fdbcab18eab90456e1": {
          "model_module": "@jupyter-widgets/controls",
          "model_name": "ProgressStyleModel",
          "model_module_version": "1.5.0",
          "state": {
            "_model_module": "@jupyter-widgets/controls",
            "_model_module_version": "1.5.0",
            "_model_name": "ProgressStyleModel",
            "_view_count": null,
            "_view_module": "@jupyter-widgets/base",
            "_view_module_version": "1.2.0",
            "_view_name": "StyleView",
            "bar_color": null,
            "description_width": ""
          }
        },
        "b14b6fb1482c457d8dbd0a15f2fb6028": {
          "model_module": "@jupyter-widgets/base",
          "model_name": "LayoutModel",
          "model_module_version": "1.2.0",
          "state": {
            "_model_module": "@jupyter-widgets/base",
            "_model_module_version": "1.2.0",
            "_model_name": "LayoutModel",
            "_view_count": null,
            "_view_module": "@jupyter-widgets/base",
            "_view_module_version": "1.2.0",
            "_view_name": "LayoutView",
            "align_content": null,
            "align_items": null,
            "align_self": null,
            "border": null,
            "bottom": null,
            "display": null,
            "flex": null,
            "flex_flow": null,
            "grid_area": null,
            "grid_auto_columns": null,
            "grid_auto_flow": null,
            "grid_auto_rows": null,
            "grid_column": null,
            "grid_gap": null,
            "grid_row": null,
            "grid_template_areas": null,
            "grid_template_columns": null,
            "grid_template_rows": null,
            "height": null,
            "justify_content": null,
            "justify_items": null,
            "left": null,
            "margin": null,
            "max_height": null,
            "max_width": null,
            "min_height": null,
            "min_width": null,
            "object_fit": null,
            "object_position": null,
            "order": null,
            "overflow": null,
            "overflow_x": null,
            "overflow_y": null,
            "padding": null,
            "right": null,
            "top": null,
            "visibility": null,
            "width": null
          }
        },
        "6ba0f08699e846cf9b16fc62d15c0b02": {
          "model_module": "@jupyter-widgets/controls",
          "model_name": "DescriptionStyleModel",
          "model_module_version": "1.5.0",
          "state": {
            "_model_module": "@jupyter-widgets/controls",
            "_model_module_version": "1.5.0",
            "_model_name": "DescriptionStyleModel",
            "_view_count": null,
            "_view_module": "@jupyter-widgets/base",
            "_view_module_version": "1.2.0",
            "_view_name": "StyleView",
            "description_width": ""
          }
        }
      }
    }
  },
  "nbformat": 4,
  "nbformat_minor": 0
}